{
 "cells": [
  {
   "cell_type": "code",
   "execution_count": null,
   "metadata": {},
   "outputs": [
    {
     "name": "stderr",
     "output_type": "stream",
     "text": [
      "/home/cecilio/Projetos/meioGPT/.venv/lib/python3.13/site-packages/tqdm/auto.py:21: TqdmWarning: IProgress not found. Please update jupyter and ipywidgets. See https://ipywidgets.readthedocs.io/en/stable/user_install.html\n",
      "  from .autonotebook import tqdm as notebook_tqdm\n"
     ]
    },
    {
     "data": {
      "text/plain": [
       "True"
      ]
     },
     "execution_count": 1,
     "metadata": {},
     "output_type": "execute_result"
    }
   ],
   "source": [
    "import os\n",
    "import json\n",
    "import faiss\n",
    "import numpy as np\n",
    "from openai import OpenAI\n",
    "from sentence_transformers import SentenceTransformer\n",
    "from dotenv import load_dotenv"
   ]
  },
  {
   "cell_type": "code",
   "execution_count": 2,
   "metadata": {},
   "outputs": [],
   "source": [
    "load_dotenv()\n",
    "\n",
    "API_KEY = os.getenv(\"OPENROUTER_KEY\")\n",
    "client = OpenAI(\n",
    "  base_url=\"https://openrouter.ai/api/v1\",\n",
    "  api_key=API_KEY,\n",
    ")\n",
    "\n",
    "model = SentenceTransformer('modelo_podrao')\n",
    "index = faiss.read_index(\"faiss_index.index\")\n",
    "\n",
    "instructions = os.getenv(\"INSTRUCTIONS\")\n",
    "\n",
    "with open('conversas_podroes_filtrado.json', 'r', encoding='utf-8') as f:\n",
    "    conversas = json.load(f)"
   ]
  },
  {
   "cell_type": "code",
   "execution_count": 3,
   "metadata": {},
   "outputs": [],
   "source": [
    "def buscar_contexto(mensagem, k=5):\n",
    "    # Gerar embedding para a mensagem\n",
    "    query_embedding = model.encode([mensagem], convert_to_tensor=False)\n",
    "    query_embedding = np.array(query_embedding).astype(\"float32\")\n",
    "    \n",
    "    # Buscar os k vetores mais próximos no índice FAISS\n",
    "    distances, indices = index.search(query_embedding, k)\n",
    "    \n",
    "    # Recuperar as mensagens de contexto com base nos índices\n",
    "    context_msgs = [conversas[i][\"message\"] for i in indices[0]]\n",
    "    return \"\\n\".join(context_msgs)"
   ]
  },
  {
   "cell_type": "code",
   "execution_count": 4,
   "metadata": {},
   "outputs": [
    {
     "name": "stdout",
     "output_type": "stream",
     "text": [
      "Resposta gerada: Caralho... esse filme é muito trash e muito velho!!!\n",
      "Burro pra caralho\n",
      "Estou no cinema pra assistir duna 2, devo jogar mais pra noite\n",
      "Esse filme marcou minha infância\n",
      "O filme é uma piada com os estúdios que forçaram a barra para acontecer.\n"
     ]
    }
   ],
   "source": [
    "query = \"Filme chato pra caralho\"\n",
    "contexto = buscar_contexto(query)\n",
    "print(\"Resposta gerada:\", contexto)"
   ]
  },
  {
   "cell_type": "code",
   "execution_count": 5,
   "metadata": {},
   "outputs": [
    {
     "name": "stdout",
     "output_type": "stream",
     "text": [
      "Ah, claro, fiz um ritual com velas e tudo! O servidor do Valheim agora está mais ativo que eu tentando entender as piadas do tio do pavê. Mas, para falar a verdade, ele estava tão parado que até pensei em colocar uma placa de \"em breve\" na frente. Mas tudo bem, ao menos a tecla F5 já fez amizade com o botão \"iniciar\" e eles estão rodando felizes agora!\n"
     ]
    }
   ],
   "source": [
    "def chat_whatsapp(mensagem):\n",
    "    contexto = buscar_contexto(mensagem)\n",
    "\n",
    "    prompt = f\"\"\"\n",
    "    {instructions}\n",
    "    Aqui estão algumas mensagens anteriores para basear em sua resposta:\n",
    "    {contexto}\n",
    "\n",
    "    Agora responda a esta nova mensagem: \"{mensagem}\"\n",
    "    \"\"\"\n",
    "    \n",
    "    resposta = client.chat.completions.create(\n",
    "        model=\"openai/gpt-4o-mini\",\n",
    "        messages=[{\"role\": \"user\", \"content\": prompt}]\n",
    "    )\n",
    "\n",
    "    return resposta\n",
    "\n",
    "mensagem = \"Conseguiu fazer o servidor de Valheim rodar?\"\n",
    "bot_resposta = chat_whatsapp(mensagem)\n",
    "resposta = bot_resposta.choices[0].message.content.strip()\n",
    "print(resposta)"
   ]
  }
 ],
 "metadata": {
  "kernelspec": {
   "display_name": ".venv",
   "language": "python",
   "name": "python3"
  },
  "language_info": {
   "codemirror_mode": {
    "name": "ipython",
    "version": 3
   },
   "file_extension": ".py",
   "mimetype": "text/x-python",
   "name": "python",
   "nbconvert_exporter": "python",
   "pygments_lexer": "ipython3",
   "version": "3.13.1"
  }
 },
 "nbformat": 4,
 "nbformat_minor": 2
}
