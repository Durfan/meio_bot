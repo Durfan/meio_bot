{
 "cells": [
  {
   "cell_type": "code",
   "execution_count": 20,
   "metadata": {},
   "outputs": [],
   "source": [
    "import json\n",
    "import torch\n",
    "import faiss\n",
    "import numpy as np\n",
    "from tqdm import tqdm\n",
    "from sentence_transformers import SentenceTransformer\n",
    "from transformers import AutoModelForCausalLM, AutoTokenizer"
   ]
  },
  {
   "cell_type": "code",
   "execution_count": 21,
   "metadata": {},
   "outputs": [
    {
     "name": "stderr",
     "output_type": "stream",
     "text": [
      "Gerando embeddings: 100%|██████████| 9199/9199 [02:18<00:00, 66.21it/s]\n"
     ]
    },
    {
     "name": "stdout",
     "output_type": "stream",
     "text": [
      "Embeddings gerados e salvos com sucesso!\n"
     ]
    }
   ],
   "source": [
    "model = SentenceTransformer('all-MiniLM-L6-v2')\n",
    "\n",
    "with open('conversas_podroes_filtrado.json', 'r', encoding='utf-8') as f:\n",
    "    conversas = json.load(f)\n",
    "\n",
    "mensagens = [msg[\"message\"] for msg in conversas]\n",
    "\n",
    "# Gerar embeddings para cada mensagem\n",
    "embeddings = []\n",
    "for mensagem in tqdm(mensagens, desc=\"Gerando embeddings\"):\n",
    "    emb = model.encode(mensagem, convert_to_tensor=False)\n",
    "    embeddings.append(emb)\n",
    "\n",
    "# Salvar os embeddings em um arquivo .npy\n",
    "model.save(\"modelo_podrao\")\n",
    "print(\"Embeddings gerados e salvos com sucesso!\")"
   ]
  },
  {
   "cell_type": "code",
   "execution_count": 22,
   "metadata": {},
   "outputs": [
    {
     "name": "stdout",
     "output_type": "stream",
     "text": [
      "Indexado 9199 vetores!\n"
     ]
    }
   ],
   "source": [
    "# Converter a lista de embeddings para um array NumPy\n",
    "embeddings_np = np.array(embeddings)\n",
    "\n",
    "# Definir a dimensão (no nosso caso, 384 para all-MiniLM-L6-v2)\n",
    "dimension = embeddings_np.shape[1]\n",
    "\n",
    "# Criar um índice FAISS (IndexFlatL2 é simples e sem custo)\n",
    "index = faiss.IndexFlatL2(dimension)\n",
    "index.add(embeddings_np)\n",
    "\n",
    "faiss.write_index(index, \"faiss_index.index\")\n",
    "print(f\"Indexado {index.ntotal} vetores!\")"
   ]
  },
  {
   "cell_type": "code",
   "execution_count": 50,
   "metadata": {},
   "outputs": [
    {
     "name": "stdout",
     "output_type": "stream",
     "text": [
      "Resposta gerada: ['Caralho... esse filme é muito trash e muito velho!!!', 'Burro pra caralho', 'Estou no cinema pra assistir duna 2, devo jogar mais pra noite']\n"
     ]
    }
   ],
   "source": [
    "model = SentenceTransformer('modelo_podrao')\n",
    "\n",
    "# Carregar o índice FAISS salvo\n",
    "index = faiss.read_index(\"faiss_index.index\")\n",
    "\n",
    "# Carregar o JSON de conversas\n",
    "with open('conversas_podroes_filtrado.json', 'r', encoding='utf-8') as f:\n",
    "    conversas = json.load(f)\n",
    "\n",
    "def recuperar_contexto(query, k=3):\n",
    "    # Gerar embedding para a query\n",
    "    query_embedding = model.encode([query], convert_to_tensor=False)\n",
    "    query_embedding = np.array(query_embedding).astype(\"float32\")\n",
    "    \n",
    "    # Buscar os k vetores mais próximos no índice FAISS\n",
    "    distances, indices = index.search(query_embedding, k)\n",
    "    \n",
    "    # Recuperar as mensagens de contexto com base nos índices\n",
    "    context_msgs = [conversas[i][\"message\"] for i in indices[0]]\n",
    "    return context_msgs\n",
    "\n",
    "query = \"Filme chato pra caralho\"\n",
    "contexto = recuperar_contexto(query)\n",
    "print(\"Resposta gerada:\", contexto)"
   ]
  }
 ],
 "metadata": {
  "kernelspec": {
   "display_name": ".venv",
   "language": "python",
   "name": "python3"
  },
  "language_info": {
   "codemirror_mode": {
    "name": "ipython",
    "version": 3
   },
   "file_extension": ".py",
   "mimetype": "text/x-python",
   "name": "python",
   "nbconvert_exporter": "python",
   "pygments_lexer": "ipython3",
   "version": "3.13.1"
  }
 },
 "nbformat": 4,
 "nbformat_minor": 2
}
