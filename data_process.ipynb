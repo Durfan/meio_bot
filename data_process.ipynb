{
 "cells": [
  {
   "cell_type": "code",
   "execution_count": 1,
   "metadata": {},
   "outputs": [
    {
     "name": "stderr",
     "output_type": "stream",
     "text": [
      "/home/cecilio/Projetos/meioGPT/.venv/lib/python3.13/site-packages/tqdm/auto.py:21: TqdmWarning: IProgress not found. Please update jupyter and ipywidgets. See https://ipywidgets.readthedocs.io/en/stable/user_install.html\n",
      "  from .autonotebook import tqdm as notebook_tqdm\n"
     ]
    }
   ],
   "source": [
    "import json\n",
    "import faiss\n",
    "import numpy as np\n",
    "from tqdm import tqdm\n",
    "from sentence_transformers import SentenceTransformer"
   ]
  },
  {
   "cell_type": "code",
   "execution_count": 2,
   "metadata": {},
   "outputs": [
    {
     "name": "stderr",
     "output_type": "stream",
     "text": [
      "Gerando embeddings: 100%|██████████| 9199/9199 [02:23<00:00, 63.98it/s]\n"
     ]
    },
    {
     "name": "stdout",
     "output_type": "stream",
     "text": [
      "Embeddings gerados e salvos com sucesso!\n"
     ]
    }
   ],
   "source": [
    "model = SentenceTransformer('all-MiniLM-L6-v2')\n",
    "\n",
    "with open('conversas_podroes_filtrado.json', 'r', encoding='utf-8') as f:\n",
    "    conversas = json.load(f)\n",
    "\n",
    "mensagens = [msg[\"message\"] for msg in conversas]\n",
    "\n",
    "# Gerar embeddings para cada mensagem\n",
    "embeddings = []\n",
    "for mensagem in tqdm(mensagens, desc=\"Gerando embeddings\"):\n",
    "    emb = model.encode(mensagem, convert_to_tensor=False)\n",
    "    embeddings.append(emb)\n",
    "\n",
    "model.save(\"modelo_podrao\")\n",
    "print(\"Embeddings gerados e salvos com sucesso!\")"
   ]
  },
  {
   "cell_type": "code",
   "execution_count": 3,
   "metadata": {},
   "outputs": [
    {
     "name": "stdout",
     "output_type": "stream",
     "text": [
      "Indexado 9199 vetores!\n"
     ]
    }
   ],
   "source": [
    "# Converter a lista de embeddings para um array NumPy\n",
    "embeddings_np = np.array(embeddings)\n",
    "\n",
    "# Definir a dimensão (no nosso caso, 384 para all-MiniLM-L6-v2)\n",
    "dimension = embeddings_np.shape[1]\n",
    "\n",
    "# Criar um índice FAISS (IndexFlatL2 é simples e sem custo)\n",
    "index = faiss.IndexFlatL2(dimension)\n",
    "index.add(embeddings_np)\n",
    "\n",
    "faiss.write_index(index, \"faiss_index.index\")\n",
    "print(f\"Indexado {index.ntotal} vetores!\")"
   ]
  }
 ],
 "metadata": {
  "kernelspec": {
   "display_name": ".venv",
   "language": "python",
   "name": "python3"
  },
  "language_info": {
   "codemirror_mode": {
    "name": "ipython",
    "version": 3
   },
   "file_extension": ".py",
   "mimetype": "text/x-python",
   "name": "python",
   "nbconvert_exporter": "python",
   "pygments_lexer": "ipython3",
   "version": "3.13.1"
  }
 },
 "nbformat": 4,
 "nbformat_minor": 2
}
