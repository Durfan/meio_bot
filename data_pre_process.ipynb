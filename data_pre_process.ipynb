{
 "cells": [
  {
   "cell_type": "code",
   "execution_count": null,
   "metadata": {},
   "outputs": [],
   "source": [
    "import json\n",
    "import re"
   ]
  },
  {
   "cell_type": "code",
   "execution_count": 10,
   "metadata": {},
   "outputs": [
    {
     "name": "stdout",
     "output_type": "stream",
     "text": [
      "Conversas processadas e salvas como JSON!\n"
     ]
    }
   ],
   "source": [
    "def processar_whatsapp_txt(arquivo):\n",
    "    with open(arquivo, \"r\", encoding=\"utf-8\") as f:\n",
    "        linhas = f.readlines()\n",
    "\n",
    "    mensagens = []\n",
    "    padrao = re.compile(r\"^(\\d{2}/\\d{2}/\\d{4}) (\\d{2}:\\d{2}) - (.*?): (.*)$\")\n",
    "\n",
    "    for linha in linhas:\n",
    "        linha = linha.strip()\n",
    "        match = padrao.match(linha)\n",
    "        if match:\n",
    "            data, hora, usuario, mensagem = match.groups()  # Desempacotando 4 grupos\n",
    "            mensagens.append({\n",
    "                \"date\": data,\n",
    "                \"time\": hora,\n",
    "                \"user\": usuario,\n",
    "                \"message\": mensagem\n",
    "            })\n",
    "\n",
    "    return mensagens\n",
    "\n",
    "mensagens = processar_whatsapp_txt(\"conversas_podroes.txt\")\n",
    "\n",
    "with open(\"conversas_podroes.json\", \"w\", encoding=\"utf-8\") as f:\n",
    "    json.dump(mensagens, f, indent=4, ensure_ascii=False)\n",
    "\n",
    "print(\"Conversas processadas e salvas como JSON!\")"
   ]
  },
  {
   "cell_type": "code",
   "execution_count": null,
   "metadata": {},
   "outputs": [
    {
     "name": "stdout",
     "output_type": "stream",
     "text": [
      "Arquivo filtrado salvo com sucesso!\n"
     ]
    }
   ],
   "source": [
    "with open(\"conversas_podroes.json\", \"r\", encoding=\"utf-8\") as f:\n",
    "    dados = json.load(f)\n",
    "\n",
    "# Filtrar as mensagens que não são \"<Mídia oculta>\"\n",
    "dados_filtrados = [entrada for entrada in dados if entrada.get(\"message\") != \"<Mídia oculta>\"]\n",
    "dados_filtrados = [entrada for entrada in dados if entrada.get(\"message\") != \"Mensagem apagada\"]\n",
    "\n",
    "with open(\"conversas_podroes_filtrado.json\", \"w\", encoding=\"utf-8\") as f:\n",
    "    json.dump(dados_filtrados, f, indent=4, ensure_ascii=False)\n",
    "\n",
    "print(\"Arquivo filtrado salvo com sucesso!\")"
   ]
  }
 ],
 "metadata": {
  "kernelspec": {
   "display_name": ".venv",
   "language": "python",
   "name": "python3"
  },
  "language_info": {
   "codemirror_mode": {
    "name": "ipython",
    "version": 3
   },
   "file_extension": ".py",
   "mimetype": "text/x-python",
   "name": "python",
   "nbconvert_exporter": "python",
   "pygments_lexer": "ipython3",
   "version": "3.13.1"
  }
 },
 "nbformat": 4,
 "nbformat_minor": 2
}
